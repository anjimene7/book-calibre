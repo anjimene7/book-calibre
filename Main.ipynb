{
 "cells": [
  {
   "cell_type": "code",
   "execution_count": 4,
   "metadata": {},
   "outputs": [
    {
     "name": "stdout",
     "output_type": "stream",
     "text": [
      "Using python : 3.8.0\n"
     ]
    }
   ],
   "source": [
    "#%reset -f\n",
    "from platform import python_version\n",
    "print('Using python : ' + python_version())\n",
    "import os, sys\n",
    "import numpy as np\n",
    "import pandas as pd\n",
    "#import sklearn as sk\n",
    "import pickle\n",
    "\n",
    "import os, sys\n",
    "import numpy as np\n",
    "import pandas as pd\n",
    "import re\n",
    "import pickle\n",
    "import iso639\n",
    "import time\n",
    "from collections import Counter\n",
    "from tqdm import tqdm\n",
    "from pathlib import Path\n",
    "\n",
    "from process import main_process\n",
    "\n",
    "os.environ[\"NLTK_DATA\"] = \"/media/hdd/jupyter-notebooks/ebook_project/utils\""
   ]
  },
  {
   "cell_type": "code",
   "execution_count": 5,
   "metadata": {},
   "outputs": [],
   "source": [
    "import matplotlib.pyplot as plt\n",
    "%matplotlib inline"
   ]
  },
  {
   "cell_type": "code",
   "execution_count": 6,
   "metadata": {},
   "outputs": [
    {
     "name": "stderr",
     "output_type": "stream",
     "text": [
      "  2%|▏         | 4/244 [05:37<5:37:43, 84.43s/it]\n"
     ]
    },
    {
     "ename": "ModuleNotFoundError",
     "evalue": "No module named 'sklearn'",
     "output_type": "error",
     "traceback": [
      "\u001b[0;31m---------------------------------------------------------------------------\u001b[0m",
      "\u001b[0;31mModuleNotFoundError\u001b[0m                       Traceback (most recent call last)",
      "\u001b[0;32m<ipython-input-6-8c94bfab1992>\u001b[0m in \u001b[0;36m<module>\u001b[0;34m\u001b[0m\n\u001b[1;32m      1\u001b[0m \u001b[0mplt\u001b[0m\u001b[0;34m.\u001b[0m\u001b[0mrcParams\u001b[0m\u001b[0;34m[\u001b[0m\u001b[0;34m'figure.figsize'\u001b[0m\u001b[0;34m]\u001b[0m \u001b[0;34m=\u001b[0m \u001b[0;34m[\u001b[0m\u001b[0;36m20\u001b[0m\u001b[0;34m,\u001b[0m \u001b[0;36m10\u001b[0m\u001b[0;34m]\u001b[0m\u001b[0;34m\u001b[0m\u001b[0;34m\u001b[0m\u001b[0m\n\u001b[0;32m----> 2\u001b[0;31m \u001b[0mmain_process\u001b[0m\u001b[0;34m(\u001b[0m\u001b[0;32mTrue\u001b[0m\u001b[0;34m,\u001b[0m\u001b[0;34m'stemming'\u001b[0m\u001b[0;34m,\u001b[0m\u001b[0;34m'nltk'\u001b[0m\u001b[0;34m,\u001b[0m\u001b[0;34m'../../Calibre'\u001b[0m\u001b[0;34m,\u001b[0m\u001b[0;34m'output'\u001b[0m\u001b[0;34m)\u001b[0m\u001b[0;34m\u001b[0m\u001b[0;34m\u001b[0m\u001b[0m\n\u001b[0m",
      "\u001b[0;32m/media/hdd/jupyter-notebooks/ebook_project/process.py\u001b[0m in \u001b[0;36mmain_process\u001b[0;34m(verbose, method, stopWords, ebookPath, outputPath)\u001b[0m\n\u001b[1;32m    253\u001b[0m         \u001b[0mpickle\u001b[0m\u001b[0;34m.\u001b[0m\u001b[0mdump\u001b[0m\u001b[0;34m(\u001b[0m\u001b[0mfinal\u001b[0m\u001b[0;34m,\u001b[0m \u001b[0mhandle\u001b[0m\u001b[0;34m,\u001b[0m \u001b[0mprotocol\u001b[0m \u001b[0;34m=\u001b[0m \u001b[0;36m4\u001b[0m\u001b[0;34m)\u001b[0m\u001b[0;34m\u001b[0m\u001b[0;34m\u001b[0m\u001b[0m\n\u001b[1;32m    254\u001b[0m \u001b[0;34m\u001b[0m\u001b[0m\n\u001b[0;32m--> 255\u001b[0;31m     \u001b[0;31m#os.remove('./runnning')\u001b[0m\u001b[0;34m\u001b[0m\u001b[0;34m\u001b[0m\u001b[0;34m\u001b[0m\u001b[0m\n\u001b[0m\u001b[1;32m    256\u001b[0m     \u001b[0mprint\u001b[0m\u001b[0;34m(\u001b[0m\u001b[0;34m'Process ended'\u001b[0m\u001b[0;34m)\u001b[0m\u001b[0;34m\u001b[0m\u001b[0;34m\u001b[0m\u001b[0m\n\u001b[1;32m    257\u001b[0m     \u001b[0;32mreturn\u001b[0m \u001b[0mto_return\u001b[0m\u001b[0;34m\u001b[0m\u001b[0;34m\u001b[0m\u001b[0m\n",
      "\u001b[0;32m/media/hdd/jupyter-notebooks/ebook_project/process.py\u001b[0m in \u001b[0;36mcompute_IDF\u001b[0;34m(df)\u001b[0m\n\u001b[1;32m    191\u001b[0m     \u001b[0;32mdef\u001b[0m \u001b[0mcompute_IDF\u001b[0m\u001b[0;34m(\u001b[0m\u001b[0mdf\u001b[0m\u001b[0;34m)\u001b[0m\u001b[0;34m:\u001b[0m\u001b[0;34m\u001b[0m\u001b[0;34m\u001b[0m\u001b[0m\n\u001b[1;32m    192\u001b[0m         \u001b[0;31m# DF is a PD dataframe with rows as documents, and columns as tokens\u001b[0m\u001b[0;34m\u001b[0m\u001b[0;34m\u001b[0m\u001b[0;34m\u001b[0m\u001b[0m\n\u001b[0;32m--> 193\u001b[0;31m         \u001b[0;32mfrom\u001b[0m \u001b[0msklearn\u001b[0m\u001b[0;34m.\u001b[0m\u001b[0mfeature_extraction\u001b[0m\u001b[0;34m.\u001b[0m\u001b[0mtext\u001b[0m \u001b[0;32mimport\u001b[0m \u001b[0mTfidfTransformer\u001b[0m\u001b[0;34m\u001b[0m\u001b[0;34m\u001b[0m\u001b[0m\n\u001b[0m\u001b[1;32m    194\u001b[0m         \u001b[0mtfidf_transformer\u001b[0m\u001b[0;34m=\u001b[0m\u001b[0mTfidfTransformer\u001b[0m\u001b[0;34m(\u001b[0m\u001b[0msmooth_idf\u001b[0m\u001b[0;34m=\u001b[0m\u001b[0;32mTrue\u001b[0m\u001b[0;34m,\u001b[0m\u001b[0muse_idf\u001b[0m\u001b[0;34m=\u001b[0m\u001b[0;32mTrue\u001b[0m\u001b[0;34m)\u001b[0m\u001b[0;34m\u001b[0m\u001b[0;34m\u001b[0m\u001b[0m\n\u001b[1;32m    195\u001b[0m         \u001b[0mtfidf_transformer\u001b[0m\u001b[0;34m.\u001b[0m\u001b[0mfit\u001b[0m\u001b[0;34m(\u001b[0m\u001b[0mdf\u001b[0m\u001b[0;34m)\u001b[0m\u001b[0;34m\u001b[0m\u001b[0;34m\u001b[0m\u001b[0m\n",
      "\u001b[0;31mModuleNotFoundError\u001b[0m: No module named 'sklearn'"
     ]
    }
   ],
   "source": [
    "plt.rcParams['figure.figsize'] = [20, 10]\n",
    "main_process(True,'stemming','nltk','../../Calibre','output')"
   ]
  },
  {
   "cell_type": "code",
   "execution_count": null,
   "metadata": {},
   "outputs": [],
   "source": [
    "with open('final.pickle', 'rb') as handle:\n",
    "    final = pickle.load(handle)"
   ]
  },
  {
   "cell_type": "markdown",
   "metadata": {},
   "source": [
    "# 1) Data exploration"
   ]
  },
  {
   "cell_type": "code",
   "execution_count": null,
   "metadata": {},
   "outputs": [],
   "source": [
    "final['metadata'].head()"
   ]
  },
  {
   "cell_type": "code",
   "execution_count": null,
   "metadata": {},
   "outputs": [],
   "source": [
    "final['words'].head()"
   ]
  },
  {
   "cell_type": "code",
   "execution_count": null,
   "metadata": {},
   "outputs": [],
   "source": [
    "print('Shape of metadata DF: '+str(final['metadata'].shape))\n",
    "print('\\nShape of words DF: '+str(final['words'].shape))"
   ]
  },
  {
   "cell_type": "code",
   "execution_count": null,
   "metadata": {},
   "outputs": [],
   "source": [
    "ax=final['metadata']['length_full'].sort_values().plot(logy=True)\n",
    "a=np.round(np.linspace(0,final['metadata'].shape[0],15))\n",
    "ax.xaxis.set_ticks(a)\n",
    "ax.set_xticklabels(a)\n",
    "plt.xlabel('Number of books')\n",
    "plt.ylabel('Length of books')"
   ]
  },
  {
   "cell_type": "code",
   "execution_count": null,
   "metadata": {},
   "outputs": [],
   "source": [
    "from collections import defaultdict, Counter\n",
    "import matplotlib.patches as mpatches\n",
    "\n",
    "values = (100*final['metadata']['length_unique']/final['metadata']['length_full']).sort_values(ascending=False)\n",
    "authors = final['metadata']['author'].loc[values.index].values\n",
    "subjects = final['metadata']['subject'].loc[values.index].values\n",
    "df_length = pd.DataFrame(list(zip(authors,values,subjects)), columns=['Authors','Ratio','Subjects'])\n",
    "df_length = df_length.groupby('Authors').agg({'Ratio':'median', 'Subjects':lambda col: ','.join(col)})\n",
    "\n",
    "def my_func(x):\n",
    "    return(Counter(x.split(',')).most_common()[0][0])\n",
    "subjects = [my_func(x) for x in df_length['Subjects']]\n",
    "\n",
    "dd = defaultdict(lambda: 'b')\n",
    "dd['Science-Fiction'] = 'r'\n",
    "dd['Fantasy'] = 'r'\n",
    "dd['Littérature'] = 'g'\n",
    "dd['Historique'] = 'y'\n",
    "dd['Histoire'] = 'y'\n",
    "dd['Philosophie'] = 'g'\n",
    "dd['Roman historique'] = 'y'\n",
    "dd['Romans historiques'] = 'y'\n",
    "\n",
    "df_length['Subjects'] = subjects\n",
    "df_length.reset_index().sort_values('Ratio', ascending=False).plot.bar(x='Authors', y='Ratio',\n",
    "                                     color= df_length['Subjects'].map(dd))\n",
    "\n",
    "sf = mpatches.Patch(color='r', label='Science-Fiction, Fantasy')\n",
    "li = mpatches.Patch(color='g', label='Littérature, Philosophie')\n",
    "hi = mpatches.Patch(color='y', label='Histoire, Historique')\n",
    "bl = mpatches.Patch(color='b', label='Autre')\n",
    "plt.ylabel('Ratio unique words/full length')\n",
    "_=plt.legend(handles=[sf, li, hi, bl])"
   ]
  },
  {
   "cell_type": "code",
   "execution_count": null,
   "metadata": {},
   "outputs": [],
   "source": [
    "list(final['words'].index)"
   ]
  },
  {
   "cell_type": "code",
   "execution_count": null,
   "metadata": {},
   "outputs": [],
   "source": [
    "def plot_wordcloud(data):\n",
    "    from wordcloud import WordCloud\n",
    "    wordcloud2 = WordCloud(background_color='white',\n",
    "                           max_words=400,\n",
    "                           max_font_size=80,\n",
    "                           width=800, height=400,\n",
    "                           normalize_plurals=False\n",
    "                             )\n",
    "    wordcloud2.generate_from_frequencies(data.to_dict())\n",
    "    fig = plt.figure(figsize = (40,20))\n",
    "    plt.imshow(wordcloud2, interpolation='bilinear')\n",
    "    fig.suptitle(data.name, fontsize=70)"
   ]
  },
  {
   "cell_type": "code",
   "execution_count": null,
   "metadata": {},
   "outputs": [],
   "source": [
    "number = int([i for i, s in enumerate(final['words'].index) if 'Candide' in s][0])\n",
    "data = final['words'].iloc[number]\n",
    "data.sort_values(ascending=False)\n",
    "\n",
    "final['words']['homme']"
   ]
  },
  {
   "cell_type": "code",
   "execution_count": null,
   "metadata": {
    "scrolled": false
   },
   "outputs": [],
   "source": [
    "# FICTION\n",
    "number = int([i for i, s in enumerate(final['words'].index) if 'Candide' in s][0])\n",
    "data = final['words'].iloc[number]\n",
    "plot_wordcloud(data)\n",
    "\n",
    "number = int([i for i, s in enumerate(final['words'].index) if 'Fondation' in s][1])\n",
    "data = final['words'].iloc[number]\n",
    "plot_wordcloud(data)\n",
    "\n",
    "# NON-FICTION\n",
    "number = int([i for i, s in enumerate(final['words'].index) if 'Sapiens' in s][0])\n",
    "data = final['words'].iloc[number]\n",
    "plot_wordcloud(data)\n",
    "\n",
    "number = int([i for i, s in enumerate(final['words'].index) if 'Mousquetaires' in s][0])\n",
    "data = final['words'].iloc[number]\n",
    "plot_wordcloud(data)\n",
    "\n",
    "number = int([i for i, s in enumerate(final['words'].index) if 'Kilo' in s][0])\n",
    "data = final['words'].iloc[number]\n",
    "plot_wordcloud(data)"
   ]
  },
  {
   "cell_type": "code",
   "execution_count": null,
   "metadata": {},
   "outputs": [],
   "source": [
    "plot_wordcloud(final['words'].sum(axis=0))"
   ]
  },
  {
   "cell_type": "code",
   "execution_count": null,
   "metadata": {},
   "outputs": [],
   "source": [
    "final['words'].mean(axis=0).sort_values(ascending=False)"
   ]
  },
  {
   "cell_type": "code",
   "execution_count": null,
   "metadata": {},
   "outputs": [],
   "source": [
    "[x for x,y in Counter(final['words'].columns).items() if y==1]"
   ]
  },
  {
   "cell_type": "markdown",
   "metadata": {},
   "source": [
    "# 2) Processing"
   ]
  },
  {
   "cell_type": "code",
   "execution_count": null,
   "metadata": {},
   "outputs": [],
   "source": [
    "nr=[i for i, s in enumerate(final['words'].index) if 'Mousquetaires' in s][0]"
   ]
  },
  {
   "cell_type": "code",
   "execution_count": null,
   "metadata": {},
   "outputs": [],
   "source": [
    "from sklearn.metrics.pairwise import pairwise_distances\n",
    "from scipy.spatial.distance import pdist\n",
    "\n",
    "h = pairwise_distances(final['words'], metric='cosine') #cosine, cityblock, correlation\n",
    "#h = pdist(final['words'], metric='cosine')"
   ]
  },
  {
   "cell_type": "code",
   "execution_count": null,
   "metadata": {},
   "outputs": [],
   "source": [
    "import plotly\n",
    "import plotly.graph_objs as go\n",
    "from plotly.offline import download_plotlyjs, init_notebook_mode, plot, iplot\n",
    "import plotly.plotly as py\n",
    "import plotly.graph_objs as go\n",
    "\n",
    "plotly.tools.set_credentials_file(username='aoning', api_key='pXneTE0EeDB2YsrRCEZo')\n",
    "\n",
    "numbi = len(final['words'].index)\n",
    "numbi = 500\n",
    "\n",
    "trace = go.Heatmap(z=h[0:numbi,0:numbi],\n",
    "                   x=final['words'].index[0:numbi],\n",
    "                   y=final['words'].index[0:numbi], reversescale = True)\n",
    "\n",
    "\n",
    "data=[trace]\n",
    "py.iplot(data, filename='labelled-heatmap')"
   ]
  },
  {
   "cell_type": "code",
   "execution_count": null,
   "metadata": {},
   "outputs": [],
   "source": [
    "from scipy.cluster import hierarchy\n",
    "from scipy.spatial.distance import squareform\n",
    "\n",
    "link = hierarchy.linkage(h[0:numbi], method='single')\n",
    "o1 = hierarchy.leaves_list(link)\n",
    "\n",
    "mat = h[o1,:]\n",
    "mat = mat[:, o1[::-1]]\n",
    "mat = mat[::-1,:]\n",
    "labs_mat = final['words'].index[o1]\n",
    "labs_mat = labs_mat[::-1]\n",
    "\n",
    "trace = go.Heatmap(z=mat[0:numbi,0:numbi],\n",
    "                   x=labs_mat[0:numbi],\n",
    "                   y=labs_mat[0:numbi], reversescale = True)\n",
    "\n",
    "\n",
    "data=[trace]\n",
    "py.iplot(data, filename='labelled-heatmap')"
   ]
  },
  {
   "cell_type": "code",
   "execution_count": null,
   "metadata": {},
   "outputs": [],
   "source": []
  }
 ],
 "metadata": {
  "kernelspec": {
   "display_name": "Python 3",
   "language": "python",
   "name": "python3"
  }
 },
 "nbformat": 4,
 "nbformat_minor": 2
}
